{
 "cells": [
  {
   "cell_type": "code",
   "execution_count": 1,
   "metadata": {},
   "outputs": [],
   "source": [
    "import numpy as np"
   ]
  },
  {
   "cell_type": "code",
   "execution_count": 2,
   "metadata": {},
   "outputs": [],
   "source": [
    "def sigmoide(soma):\n",
    "    return 1 / (1 + np.exp(-soma))"
   ]
  },
  {
   "cell_type": "code",
   "execution_count": 14,
   "metadata": {},
   "outputs": [],
   "source": [
    "# a = sigmoide(-1.5)\n",
    "# b = np.exp(0)"
   ]
  },
  {
   "cell_type": "code",
   "execution_count": 22,
   "metadata": {},
   "outputs": [],
   "source": [
    "entradas = np.array([[0,0], [0,1], [1, 0], [1, 1]])\n",
    "\n",
    "saidas = np.array([[0], [1], [1], [0]])\n",
    "\n",
    "pesos0 = np.array([[-0.424, -0.740, -0.961],\n",
    "                 [0.359, -0.577, -0.469]])\n",
    "\n",
    "peso1 = np.array([[-0.017], [-0.893], [0.148]])"
   ]
  },
  {
   "cell_type": "code",
   "execution_count": 24,
   "metadata": {},
   "outputs": [],
   "source": [
    "epocas = 100\n",
    "\n",
    "for j in range(epocas):\n",
    "    camadaEntrada = entradas\n",
    "    somaSinapse0 = np.dot(camadaEntrada, pesos0) # soma entre produtos das camada de entrada e oculta (pesos0)\n",
    "    camadaOculta = sigmoide(somaSinapse0)\n"
   ]
  }
 ],
 "metadata": {
  "interpreter": {
   "hash": "aee8b7b246df8f9039afb4144a1f6fd8d2ca17a180786b69acc140d282b71a49"
  },
  "kernelspec": {
   "display_name": "Python 3.9.9 64-bit",
   "language": "python",
   "name": "python3"
  },
  "language_info": {
   "codemirror_mode": {
    "name": "ipython",
    "version": 3
   },
   "file_extension": ".py",
   "mimetype": "text/x-python",
   "name": "python",
   "nbconvert_exporter": "python",
   "pygments_lexer": "ipython3",
   "version": "3.9.9"
  },
  "orig_nbformat": 4
 },
 "nbformat": 4,
 "nbformat_minor": 2
}
