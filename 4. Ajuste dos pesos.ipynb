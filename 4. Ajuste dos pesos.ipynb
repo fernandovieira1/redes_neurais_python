{
 "cells": [
  {
   "cell_type": "code",
   "execution_count": null,
   "metadata": {},
   "outputs": [],
   "source": [
    "# Perceptron de uma camada simulando AND (E)"
   ]
  },
  {
   "cell_type": "code",
   "execution_count": 1,
   "metadata": {},
   "outputs": [],
   "source": [
    "import numpy as np"
   ]
  },
  {
   "cell_type": "code",
   "execution_count": 3,
   "metadata": {},
   "outputs": [],
   "source": [
    "entradas = np.array([[0, 0], [1, 0], [1, 0], [1, 1]])\n",
    "saidas = np.array([0, 0, 0, 1])\n",
    "pesos = np.array([0.0, 0.0]) # ou sinapses\n",
    "taxaAprendizagem = 0.1"
   ]
  },
  {
   "cell_type": "code",
   "execution_count": 4,
   "metadata": {},
   "outputs": [],
   "source": [
    "def stepFunction(soma):\n",
    "    if (soma>=1):\n",
    "        return 1\n",
    "    return 0"
   ]
  },
  {
   "cell_type": "code",
   "execution_count": 5,
   "metadata": {},
   "outputs": [],
   "source": [
    "def calculaSaida(registro):\n",
    "    s= registro.dot(pesos) # o mesmo que:  soma += entradas[i] * pesos[i]\n",
    "    return stepFunction(s)\n",
    "\n",
    "# Encontra o melhor peso "
   ]
  },
  {
   "cell_type": "code",
   "execution_count": 7,
   "metadata": {},
   "outputs": [],
   "source": [
    "def treinar():\n",
    "    erroTotal = 1\n",
    "    while (erroTotal != 0):\n",
    "        erroTotal = 0 # nenhum erro a priori\n",
    "        for i in range(len(saidas)):\n",
    "            saidaCalculada = calculaSaida(np.asarray(entradas[i]))\n",
    "            erro = abs(saidas[i] - saidaCalculada)\n",
    "            erroTotal += erro\n",
    "            for j in range(len(pesos)):\n",
    "                pesos[j] = pesos[j] + (taxaAprendizagem * entradas[i][j] * erro)\n",
    "                print('Peso atualizado ' + str(pesos[j]))\n",
    "        print('Total de erros ' + str(erroTotal))\n",
    "\n",
    "# Encontra o melhor conjunto de pesos"
   ]
  },
  {
   "cell_type": "code",
   "execution_count": 8,
   "metadata": {},
   "outputs": [
    {
     "name": "stdout",
     "output_type": "stream",
     "text": [
      "Peso atualizado 0.0\n",
      "Peso atualizado 0.0\n",
      "Peso atualizado 0.0\n",
      "Peso atualizado 0.0\n",
      "Peso atualizado 0.0\n",
      "Peso atualizado 0.0\n",
      "Peso atualizado 0.1\n",
      "Peso atualizado 0.1\n",
      "Total de erros 1\n",
      "Peso atualizado 0.1\n",
      "Peso atualizado 0.1\n",
      "Peso atualizado 0.1\n",
      "Peso atualizado 0.1\n",
      "Peso atualizado 0.1\n",
      "Peso atualizado 0.1\n",
      "Peso atualizado 0.2\n",
      "Peso atualizado 0.2\n",
      "Total de erros 1\n",
      "Peso atualizado 0.2\n",
      "Peso atualizado 0.2\n",
      "Peso atualizado 0.2\n",
      "Peso atualizado 0.2\n",
      "Peso atualizado 0.2\n",
      "Peso atualizado 0.2\n",
      "Peso atualizado 0.30000000000000004\n",
      "Peso atualizado 0.30000000000000004\n",
      "Total de erros 1\n",
      "Peso atualizado 0.30000000000000004\n",
      "Peso atualizado 0.30000000000000004\n",
      "Peso atualizado 0.30000000000000004\n",
      "Peso atualizado 0.30000000000000004\n",
      "Peso atualizado 0.30000000000000004\n",
      "Peso atualizado 0.30000000000000004\n",
      "Peso atualizado 0.4\n",
      "Peso atualizado 0.4\n",
      "Total de erros 1\n",
      "Peso atualizado 0.4\n",
      "Peso atualizado 0.4\n",
      "Peso atualizado 0.4\n",
      "Peso atualizado 0.4\n",
      "Peso atualizado 0.4\n",
      "Peso atualizado 0.4\n",
      "Peso atualizado 0.5\n",
      "Peso atualizado 0.5\n",
      "Total de erros 1\n",
      "Peso atualizado 0.5\n",
      "Peso atualizado 0.5\n",
      "Peso atualizado 0.5\n",
      "Peso atualizado 0.5\n",
      "Peso atualizado 0.5\n",
      "Peso atualizado 0.5\n",
      "Peso atualizado 0.5\n",
      "Peso atualizado 0.5\n",
      "Total de erros 0\n"
     ]
    }
   ],
   "source": [
    "treinar()"
   ]
  },
  {
   "cell_type": "code",
   "execution_count": null,
   "metadata": {},
   "outputs": [],
   "source": [
    "# Perceptron de uma camada simulando OR (ou)"
   ]
  },
  {
   "cell_type": "code",
   "execution_count": 9,
   "metadata": {},
   "outputs": [],
   "source": [
    "entradas = np.array([[0, 0], [0, 1], [1, 0], [1, 1]])\n",
    "saidas = np.array([0, 1, 1, 1])\n",
    "pesos = np.array([0.0, 0.0]) # ou sinapses\n",
    "taxaAprendizagem = 0.1"
   ]
  },
  {
   "cell_type": "code",
   "execution_count": 10,
   "metadata": {},
   "outputs": [],
   "source": [
    "def stepFunction(soma):\n",
    "    if (soma>=1):\n",
    "        return 1\n",
    "    return 0"
   ]
  },
  {
   "cell_type": "code",
   "execution_count": 11,
   "metadata": {},
   "outputs": [],
   "source": [
    "def calculaSaida(registro):\n",
    "    s= registro.dot(pesos) # o mesmo que:  soma += entradas[i] * pesos[i]\n",
    "    return stepFunction(s)\n",
    "\n",
    "# Encontra o melhor peso"
   ]
  },
  {
   "cell_type": "code",
   "execution_count": 12,
   "metadata": {},
   "outputs": [],
   "source": [
    "def treinar():\n",
    "    erroTotal = 1\n",
    "    while (erroTotal != 0):\n",
    "        erroTotal = 0 # nenhum erro a priori\n",
    "        for i in range(len(saidas)):\n",
    "            saidaCalculada = calculaSaida(np.asarray(entradas[i]))\n",
    "            erro = abs(saidas[i] - saidaCalculada)\n",
    "            erroTotal += erro\n",
    "            for j in range(len(pesos)):\n",
    "                pesos[j] = pesos[j] + (taxaAprendizagem * entradas[i][j] * erro)\n",
    "                print('Peso atualizado ' + str(pesos[j]))\n",
    "        print('Total de erros ' + str(erroTotal))\n",
    "\n",
    "# Encontra o melhor conjunto de pesos"
   ]
  },
  {
   "cell_type": "code",
   "execution_count": 13,
   "metadata": {},
   "outputs": [
    {
     "name": "stdout",
     "output_type": "stream",
     "text": [
      "Peso atualizado 0.0\n",
      "Peso atualizado 0.0\n",
      "Peso atualizado 0.0\n",
      "Peso atualizado 0.1\n",
      "Peso atualizado 0.1\n",
      "Peso atualizado 0.1\n",
      "Peso atualizado 0.2\n",
      "Peso atualizado 0.2\n",
      "Total de erros 3\n",
      "Peso atualizado 0.2\n",
      "Peso atualizado 0.2\n",
      "Peso atualizado 0.2\n",
      "Peso atualizado 0.30000000000000004\n",
      "Peso atualizado 0.30000000000000004\n",
      "Peso atualizado 0.30000000000000004\n",
      "Peso atualizado 0.4\n",
      "Peso atualizado 0.4\n",
      "Total de erros 3\n",
      "Peso atualizado 0.4\n",
      "Peso atualizado 0.4\n",
      "Peso atualizado 0.4\n",
      "Peso atualizado 0.5\n",
      "Peso atualizado 0.5\n",
      "Peso atualizado 0.5\n",
      "Peso atualizado 0.5\n",
      "Peso atualizado 0.5\n",
      "Total de erros 2\n",
      "Peso atualizado 0.5\n",
      "Peso atualizado 0.5\n",
      "Peso atualizado 0.5\n",
      "Peso atualizado 0.6\n",
      "Peso atualizado 0.6\n",
      "Peso atualizado 0.6\n",
      "Peso atualizado 0.6\n",
      "Peso atualizado 0.6\n",
      "Total de erros 2\n",
      "Peso atualizado 0.6\n",
      "Peso atualizado 0.6\n",
      "Peso atualizado 0.6\n",
      "Peso atualizado 0.7\n",
      "Peso atualizado 0.7\n",
      "Peso atualizado 0.7\n",
      "Peso atualizado 0.7\n",
      "Peso atualizado 0.7\n",
      "Total de erros 2\n",
      "Peso atualizado 0.7\n",
      "Peso atualizado 0.7\n",
      "Peso atualizado 0.7\n",
      "Peso atualizado 0.7999999999999999\n",
      "Peso atualizado 0.7999999999999999\n",
      "Peso atualizado 0.7999999999999999\n",
      "Peso atualizado 0.7999999999999999\n",
      "Peso atualizado 0.7999999999999999\n",
      "Total de erros 2\n",
      "Peso atualizado 0.7999999999999999\n",
      "Peso atualizado 0.7999999999999999\n",
      "Peso atualizado 0.7999999999999999\n",
      "Peso atualizado 0.8999999999999999\n",
      "Peso atualizado 0.8999999999999999\n",
      "Peso atualizado 0.8999999999999999\n",
      "Peso atualizado 0.8999999999999999\n",
      "Peso atualizado 0.8999999999999999\n",
      "Total de erros 2\n",
      "Peso atualizado 0.8999999999999999\n",
      "Peso atualizado 0.8999999999999999\n",
      "Peso atualizado 0.8999999999999999\n",
      "Peso atualizado 0.9999999999999999\n",
      "Peso atualizado 0.9999999999999999\n",
      "Peso atualizado 0.9999999999999999\n",
      "Peso atualizado 0.9999999999999999\n",
      "Peso atualizado 0.9999999999999999\n",
      "Total de erros 2\n",
      "Peso atualizado 0.9999999999999999\n",
      "Peso atualizado 0.9999999999999999\n",
      "Peso atualizado 0.9999999999999999\n",
      "Peso atualizado 1.0999999999999999\n",
      "Peso atualizado 1.0999999999999999\n",
      "Peso atualizado 1.0999999999999999\n",
      "Peso atualizado 1.0999999999999999\n",
      "Peso atualizado 1.0999999999999999\n",
      "Total de erros 2\n",
      "Peso atualizado 1.0999999999999999\n",
      "Peso atualizado 1.0999999999999999\n",
      "Peso atualizado 1.0999999999999999\n",
      "Peso atualizado 1.0999999999999999\n",
      "Peso atualizado 1.0999999999999999\n",
      "Peso atualizado 1.0999999999999999\n",
      "Peso atualizado 1.0999999999999999\n",
      "Peso atualizado 1.0999999999999999\n",
      "Total de erros 0\n"
     ]
    }
   ],
   "source": [
    "treinar()"
   ]
  }
 ],
 "metadata": {
  "interpreter": {
   "hash": "aee8b7b246df8f9039afb4144a1f6fd8d2ca17a180786b69acc140d282b71a49"
  },
  "kernelspec": {
   "display_name": "Python 3.9.9 64-bit",
   "language": "python",
   "name": "python3"
  },
  "language_info": {
   "codemirror_mode": {
    "name": "ipython",
    "version": 3
   },
   "file_extension": ".py",
   "mimetype": "text/x-python",
   "name": "python",
   "nbconvert_exporter": "python",
   "pygments_lexer": "ipython3",
   "version": "3.9.9"
  },
  "orig_nbformat": 4
 },
 "nbformat": 4,
 "nbformat_minor": 2
}
